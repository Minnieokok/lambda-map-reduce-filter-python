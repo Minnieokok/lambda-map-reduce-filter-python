{
 "cells": [
  {
   "cell_type": "code",
   "execution_count": 1,
   "id": "fe6145c9-9b21-4605-a278-24c082ed937c",
   "metadata": {},
   "outputs": [],
   "source": [
    "#power of number\n",
    "a=lambda n,p:n**p"
   ]
  },
  {
   "cell_type": "code",
   "execution_count": 2,
   "id": "6a99f630-222b-4c60-97d0-7fad5e9db62c",
   "metadata": {},
   "outputs": [
    {
     "data": {
      "text/plain": [
       "8"
      ]
     },
     "execution_count": 2,
     "metadata": {},
     "output_type": "execute_result"
    }
   ],
   "source": [
    "a(2,3)"
   ]
  },
  {
   "cell_type": "code",
   "execution_count": 3,
   "id": "1b02954a-c0a4-46f1-89a8-984e545a5b4e",
   "metadata": {},
   "outputs": [],
   "source": [
    "#addition\n",
    "b=lambda w,e:w+e"
   ]
  },
  {
   "cell_type": "code",
   "execution_count": 4,
   "id": "4cd555af-1f4b-496d-b1ec-8e84bdeef32d",
   "metadata": {},
   "outputs": [
    {
     "data": {
      "text/plain": [
       "12"
      ]
     },
     "execution_count": 4,
     "metadata": {},
     "output_type": "execute_result"
    }
   ],
   "source": [
    "b(8,4)"
   ]
  },
  {
   "cell_type": "code",
   "execution_count": 13,
   "id": "7d82fff7-5630-43a2-9b1f-fc38b5721881",
   "metadata": {},
   "outputs": [],
   "source": [
    "m=lambda x,y:x if x>y else y"
   ]
  },
  {
   "cell_type": "code",
   "execution_count": 14,
   "id": "0c8d270f-5a80-4952-8bf5-6efa243e2ac8",
   "metadata": {},
   "outputs": [
    {
     "data": {
      "text/plain": [
       "6"
      ]
     },
     "execution_count": 14,
     "metadata": {},
     "output_type": "execute_result"
    }
   ],
   "source": [
    "m(5,6)"
   ]
  },
  {
   "cell_type": "code",
   "execution_count": 15,
   "id": "5791888e-1319-4640-9666-bbe9c3ac7e45",
   "metadata": {},
   "outputs": [],
   "source": [
    "c_tof=lambda c:(9/5)*c+32"
   ]
  },
  {
   "cell_type": "code",
   "execution_count": 16,
   "id": "18caa15f-bea1-4d34-a40f-916fd8330dc7",
   "metadata": {},
   "outputs": [
    {
     "data": {
      "text/plain": [
       "93.2"
      ]
     },
     "execution_count": 16,
     "metadata": {},
     "output_type": "execute_result"
    }
   ],
   "source": [
    "c_tof(34)"
   ]
  },
  {
   "cell_type": "code",
   "execution_count": 1,
   "id": "b7b575eb-7110-4412-b710-93dc740f0abe",
   "metadata": {},
   "outputs": [],
   "source": [
    "#map\n"
   ]
  },
  {
   "cell_type": "code",
   "execution_count": 4,
   "id": "6fd1992a-3c3f-4e47-91a6-7e76be26753a",
   "metadata": {},
   "outputs": [
    {
     "data": {
      "text/plain": [
       "[3, 5, 7, 9]"
      ]
     },
     "execution_count": 4,
     "metadata": {},
     "output_type": "execute_result"
    }
   ],
   "source": [
    "l=[1,2,3,4]\n",
    "l1=[2,3,4,5]\n",
    "list(map(lambda x,y:x+y,l,l1))"
   ]
  },
  {
   "cell_type": "code",
   "execution_count": 5,
   "id": "41cbe7fc-bcbf-4abd-8c39-6c784db85e60",
   "metadata": {},
   "outputs": [],
   "source": [
    "#reduce"
   ]
  },
  {
   "cell_type": "code",
   "execution_count": 7,
   "id": "1496ff15-22c2-4c74-be6e-c5dcd7b24612",
   "metadata": {},
   "outputs": [
    {
     "data": {
      "text/plain": [
       "19"
      ]
     },
     "execution_count": 7,
     "metadata": {},
     "output_type": "execute_result"
    }
   ],
   "source": [
    "from functools import reduce\n",
    "l2=[2,3,4,5,5]\n",
    "reduce(lambda x,y:x+y,l2)"
   ]
  },
  {
   "cell_type": "code",
   "execution_count": 17,
   "id": "97e9163d-0d85-45af-b1ec-4defaac4126e",
   "metadata": {},
   "outputs": [
    {
     "name": "stdout",
     "output_type": "stream",
     "text": [
      "[2, 4]\n"
     ]
    }
   ],
   "source": [
    "number=[1,2,3,4,5,5]\n",
    "p=list(filter(lambda x:x%2==0,l))\n",
    "print(p)"
   ]
  },
  {
   "cell_type": "code",
   "execution_count": null,
   "id": "4e92a469-1479-424b-bd53-d34dc6b85334",
   "metadata": {},
   "outputs": [],
   "source": []
  },
  {
   "cell_type": "code",
   "execution_count": null,
   "id": "b86d5362-6529-4f93-b8b4-15670343f74c",
   "metadata": {},
   "outputs": [],
   "source": []
  }
 ],
 "metadata": {
  "kernelspec": {
   "display_name": "Python 3 (ipykernel)",
   "language": "python",
   "name": "python3"
  },
  "language_info": {
   "codemirror_mode": {
    "name": "ipython",
    "version": 3
   },
   "file_extension": ".py",
   "mimetype": "text/x-python",
   "name": "python",
   "nbconvert_exporter": "python",
   "pygments_lexer": "ipython3",
   "version": "3.10.8"
  }
 },
 "nbformat": 4,
 "nbformat_minor": 5
}
